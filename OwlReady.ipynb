{
  "nbformat": 4,
  "nbformat_minor": 0,
  "metadata": {
    "colab": {
      "name": "OwlReady.ipynb",
      "provenance": [],
      "collapsed_sections": [],
      "toc_visible": true
    },
    "kernelspec": {
      "display_name": "Python 3",
      "name": "python3"
    },
    "language_info": {
      "name": "python"
    }
  },
  "cells": [
    {
      "cell_type": "markdown",
      "metadata": {
        "id": "z8WIV2gL1EO2"
      },
      "source": [
        "# **Owlready2**"
      ]
    },
    {
      "cell_type": "markdown",
      "metadata": {
        "id": "v14DrZ2n1Jnd"
      },
      "source": [
        "Owlready2 es un paquete para programación orientada a ontologías en Python"
      ]
    },
    {
      "cell_type": "code",
      "metadata": {
        "colab": {
          "base_uri": "https://localhost:8080/"
        },
        "id": "2OQbMmqguZA3",
        "outputId": "7aa731e5-8b26-48b1-8506-7348379c421e"
      },
      "source": [
        "! pwd"
      ],
      "execution_count": 2,
      "outputs": [
        {
          "output_type": "stream",
          "name": "stdout",
          "text": [
            "/content\n"
          ]
        }
      ]
    },
    {
      "cell_type": "code",
      "metadata": {
        "colab": {
          "base_uri": "https://localhost:8080/"
        },
        "id": "YjBWEeLvucnt",
        "outputId": "fc8c7b40-697b-4962-b31a-13e6abf3fe4f"
      },
      "source": [
        "! git clone https://github.com/jcatg95/ProjectOWL.git"
      ],
      "execution_count": 3,
      "outputs": [
        {
          "output_type": "stream",
          "name": "stdout",
          "text": [
            "Cloning into 'ProjectOWL'...\n",
            "remote: Enumerating objects: 8, done.\u001b[K\n",
            "remote: Counting objects: 100% (8/8), done.\u001b[K\n",
            "remote: Compressing objects: 100% (7/7), done.\u001b[K\n",
            "remote: Total 8 (delta 0), reused 4 (delta 0), pack-reused 0\u001b[K\n",
            "Unpacking objects: 100% (8/8), done.\n"
          ]
        }
      ]
    },
    {
      "cell_type": "markdown",
      "metadata": {
        "id": "OSdXRF7iunYn"
      },
      "source": [
        "Instalar Owlready2"
      ]
    },
    {
      "cell_type": "code",
      "metadata": {
        "colab": {
          "base_uri": "https://localhost:8080/"
        },
        "id": "g_mx4SKpd19G",
        "outputId": "e837d7a4-0762-4c31-c0c2-d42f00d48d3c"
      },
      "source": [
        "pip install Owlready2"
      ],
      "execution_count": 4,
      "outputs": [
        {
          "output_type": "stream",
          "name": "stdout",
          "text": [
            "Collecting Owlready2\n",
            "  Downloading Owlready2-0.35.tar.gz (23.8 MB)\n",
            "\u001b[K     |████████████████████████████████| 23.8 MB 27 kB/s \n",
            "\u001b[?25hBuilding wheels for collected packages: Owlready2\n",
            "  Building wheel for Owlready2 (setup.py) ... \u001b[?25l\u001b[?25hdone\n",
            "  Created wheel for Owlready2: filename=Owlready2-0.35-cp37-cp37m-linux_x86_64.whl size=20432814 sha256=b02e1b98f4e5d0e080dede8c8ee56f414d8d4789e257accfe12c0a117e55d031\n",
            "  Stored in directory: /root/.cache/pip/wheels/a6/85/8f/4f254dc1d3b7901c23004544f7214748607d8b0c2c02b3c868\n",
            "Successfully built Owlready2\n",
            "Installing collected packages: Owlready2\n",
            "Successfully installed Owlready2-0.35\n"
          ]
        }
      ]
    },
    {
      "cell_type": "markdown",
      "metadata": {
        "id": "k-kUKX5zuqZE"
      },
      "source": [
        "Importar la librería owlready2"
      ]
    },
    {
      "cell_type": "code",
      "metadata": {
        "id": "qHFQj71leQ6W"
      },
      "source": [
        "from owlready2 import *"
      ],
      "execution_count": 5,
      "outputs": []
    },
    {
      "cell_type": "markdown",
      "metadata": {
        "id": "nDWCkS5zq0G8"
      },
      "source": [
        "Cargamos una ontología desde un repositorio local o desde Internet:"
      ]
    },
    {
      "cell_type": "code",
      "metadata": {
        "id": "afPIpH7IeSR_",
        "colab": {
          "base_uri": "https://localhost:8080/"
        },
        "outputId": "92ac09e5-b0e4-4b98-855b-b55579c12675"
      },
      "source": [
        "onto_path.append(\"/content\")\n",
        "path = r'/content/ProjectOWL/Ontologia/tesis.owl'\n",
        "onto = get_ontology(path)\n",
        "onto.load()"
      ],
      "execution_count": 6,
      "outputs": [
        {
          "output_type": "execute_result",
          "data": {
            "text/plain": [
              "get_ontology(\"http://www.tesis.com/ontologies/tesis.owl#\")"
            ]
          },
          "metadata": {},
          "execution_count": 6
        }
      ]
    },
    {
      "cell_type": "code",
      "metadata": {
        "id": "rxuIlg8TstL3",
        "colab": {
          "base_uri": "https://localhost:8080/"
        },
        "outputId": "bbf22b09-1b9c-4d35-c910-acb6294e0067"
      },
      "source": [
        "print('Ejemplos de clases en la ontologia:')\n",
        "print(onto.Tesis)\n",
        "print(onto.ProduccionLiteraria)"
      ],
      "execution_count": 7,
      "outputs": [
        {
          "output_type": "stream",
          "name": "stdout",
          "text": [
            "Ejemplos de clases en la ontologia\n",
            "tesis.Tesis\n",
            "tesis.ProduccionLiteraria\n"
          ]
        }
      ]
    },
    {
      "cell_type": "code",
      "metadata": {
        "colab": {
          "base_uri": "https://localhost:8080/"
        },
        "id": "0o6rQLsFcGTO",
        "outputId": "9106b6d7-d262-453c-c7d6-af6a7f67a262"
      },
      "source": [
        "print('Clases disjuntas en Tesis: ', list(onto.Tesis.disjoints()))\n",
        "print('Clases disjuntas en ProduccionDeInvestigacion ', list(onto.ProduccionLiteraria.disjoints()))"
      ],
      "execution_count": 8,
      "outputs": [
        {
          "output_type": "stream",
          "name": "stdout",
          "text": [
            "Clases disjuntas en Tesis:  [AllDisjoint([tesis.Tesis, tesis.TrabajoDeInvestigacion])]\n",
            "Clases disjuntas en ProduccionDeInvestigacion  [AllDisjoint([tesis.ProduccionDeInvestigacion, tesis.ProduccionLiteraria])]\n"
          ]
        }
      ]
    },
    {
      "cell_type": "code",
      "metadata": {
        "colab": {
          "base_uri": "https://localhost:8080/"
        },
        "id": "GmXang-PxE5t",
        "outputId": "63539822-d3a2-45d4-97a0-280722f59042"
      },
      "source": [
        "#Con el list podemos listar las clases de la Ontologia\n",
        "list(onto.classes())[:10]"
      ],
      "execution_count": 9,
      "outputs": [
        {
          "output_type": "execute_result",
          "data": {
            "text/plain": [
              "[tesis.AnfArmandoSolezzi,\n",
              " tesis.AnfJoseDammert,\n",
              " tesis.Anfiteatro,\n",
              " tesis.Aprobado,\n",
              " tesis.ArticuloDeInvestigacion,\n",
              " tesis.Asesor,\n",
              " tesis.AudArteYDiseno,\n",
              " tesis.AudBibliotecaCentral,\n",
              " tesis.AudCienciasEIngenieria,\n",
              " tesis.AudCienciasSociales]"
            ]
          },
          "metadata": {},
          "execution_count": 9
        }
      ]
    },
    {
      "cell_type": "code",
      "metadata": {
        "id": "fpnC3VLjzsV1"
      },
      "source": [
        "# Funcion para obtener las claes con criterio de búsqueda\n",
        "def busqueda_entidades(criterio):\n",
        "  print(list(onto.search(iri = criterio)))"
      ],
      "execution_count": 78,
      "outputs": []
    },
    {
      "cell_type": "code",
      "metadata": {
        "colab": {
          "base_uri": "https://localhost:8080/"
        },
        "id": "QRRMrjHq0dhc",
        "outputId": "925c7a99-10e2-49c8-dd01-9c6a728ec4f2"
      },
      "source": [
        "busqueda_entidades('*Tesis')"
      ],
      "execution_count": 79,
      "outputs": [
        {
          "output_type": "stream",
          "name": "stdout",
          "text": [
            "[tesis.EstadoTesis, tesis.PruebaInconsistenciaTesis, tesis.Tesis, tesis.tieneEstadoTesis]\n"
          ]
        }
      ]
    },
    {
      "cell_type": "code",
      "metadata": {
        "colab": {
          "base_uri": "https://localhost:8080/"
        },
        "id": "EyPCK_EzetfC",
        "outputId": "a7e15963-0606-497e-dadf-bbcbb3780d15"
      },
      "source": [
        "list(onto.properties())[:10]"
      ],
      "execution_count": 11,
      "outputs": [
        {
          "output_type": "execute_result",
          "data": {
            "text/plain": [
              "[tesis.esAnfiteatroDe,\n",
              " tesis.esAsesorDe,\n",
              " tesis.esAuditorioDe,\n",
              " tesis.esAuditorioFisicoDe,\n",
              " tesis.esAuditorioVirtualDe,\n",
              " tesis.esAutorAlumnoPosgradoDe,\n",
              " tesis.esAutorAlumnoPregradoDe,\n",
              " tesis.esAutorDe,\n",
              " tesis.esBibliotecaDe,\n",
              " tesis.esEvaluadoPor]"
            ]
          },
          "metadata": {},
          "execution_count": 11
        }
      ]
    },
    {
      "cell_type": "code",
      "metadata": {
        "id": "gzRILdsweZ7M"
      },
      "source": [
        "# Búsqueda de todas las entidades que tienen como clase una entidad\n",
        "def busqueda_clases(entidad):\n",
        "  print(list(onto.search(is_a = entidad)))"
      ],
      "execution_count": 80,
      "outputs": []
    },
    {
      "cell_type": "code",
      "metadata": {
        "colab": {
          "base_uri": "https://localhost:8080/"
        },
        "id": "U-i6JjL41cGJ",
        "outputId": "2c0f3cb2-ce68-46e8-8b35-6b04f2dabc74"
      },
      "source": [
        "busqueda_clases(onto.Tesis)"
      ],
      "execution_count": 81,
      "outputs": [
        {
          "output_type": "stream",
          "name": "stdout",
          "text": [
            "[tesis.Tesis, tesis.TesisPosgrado, tesis.TesisPregrado, tesis.PruebaInconsistenciaTesis, tesis.TesisDoctorado, tesis.TesisMaestria, tesis.TesisBachiller]\n"
          ]
        }
      ]
    },
    {
      "cell_type": "code",
      "metadata": {
        "colab": {
          "base_uri": "https://localhost:8080/"
        },
        "id": "E4fQZgfHgZy7",
        "outputId": "f997c845-85f5-4ecc-d01d-03e986652805"
      },
      "source": [
        "# Lectura de la metadata\n",
        "print(onto.metadata.comment)"
      ],
      "execution_count": 84,
      "outputs": [
        {
          "output_type": "stream",
          "name": "stdout",
          "text": [
            "\n"
          ]
        }
      ]
    },
    {
      "cell_type": "code",
      "metadata": {
        "colab": {
          "base_uri": "https://localhost:8080/"
        },
        "id": "Eh18rPpxhMkf",
        "outputId": "5f907262-c4a3-48ea-da44-d1c5e7096561"
      },
      "source": [
        "# Escribimos en la metadata\n",
        "onto.metadata.comment.append(\"Ingeniería de Ontologías. \\nDominio: \\\"Tesis\\\".\\nIntegrantes: \\n1. Milton Carhuas. \\n2. Juan Carlos Tovar\")\n",
        "print(onto.metadata.comment)"
      ],
      "execution_count": 14,
      "outputs": [
        {
          "output_type": "stream",
          "name": "stdout",
          "text": [
            "['Ingeniería de Ontologías. \\nDominio: \"Tesis\".\\nIntegrantes: \\n1. Milton Carhuas. \\n2. Juan Carlos Tovar']\n"
          ]
        }
      ]
    },
    {
      "cell_type": "markdown",
      "metadata": {
        "id": "jJ1doVIP8m_1"
      },
      "source": [
        "### **Dominio y Rango**"
      ]
    },
    {
      "cell_type": "code",
      "metadata": {
        "id": "-mlblI0GyLSG"
      },
      "source": [
        "# Funcion para obtener Dominio y Rango\n",
        "def dominio_rango(propiedad):\n",
        "  print('El dominio de ',propiedad,' es: ',propiedad.domain)\n",
        "  print('El rango de ',propiedad,' es: ',propiedad.range)"
      ],
      "execution_count": 76,
      "outputs": []
    },
    {
      "cell_type": "code",
      "metadata": {
        "colab": {
          "base_uri": "https://localhost:8080/"
        },
        "id": "bl7W1TT38qpJ",
        "outputId": "c734086b-c06f-46bc-bcb9-db4f354bc196"
      },
      "source": [
        "dominio_rango(onto.tieneAsesor)"
      ],
      "execution_count": 77,
      "outputs": [
        {
          "output_type": "stream",
          "name": "stdout",
          "text": [
            "El dominio de  tesis.tieneAsesor  es:  [tesis.ProyectoDeInvestigacion]\n",
            "El rango de  tesis.tieneAsesor  es:  [tesis.Asesor]\n"
          ]
        }
      ]
    },
    {
      "cell_type": "code",
      "metadata": {
        "id": "mx5sjpNkuyMO"
      },
      "source": [
        ""
      ],
      "execution_count": null,
      "outputs": []
    },
    {
      "cell_type": "markdown",
      "metadata": {
        "id": "5Gml6GWr_oe8"
      },
      "source": [
        "### **Restricciones y Propiedades en Clases definidas**"
      ]
    },
    {
      "cell_type": "code",
      "metadata": {
        "id": "oeGBDwWe-xqF"
      },
      "source": [
        "def restricciones_props(entidad):\n",
        "  print(entidad.equivalent_to)"
      ],
      "execution_count": 85,
      "outputs": []
    },
    {
      "cell_type": "code",
      "metadata": {
        "colab": {
          "base_uri": "https://localhost:8080/"
        },
        "id": "O0pVZ1jS2Fcw",
        "outputId": "5f7ed250-9df8-4fb0-a323-baea8c868599"
      },
      "source": [
        " restricciones_props(onto.TesisTitulo2)"
      ],
      "execution_count": 86,
      "outputs": [
        {
          "output_type": "stream",
          "name": "stdout",
          "text": [
            "[tesis.ProduccionDeInvestigacion & tesis.tieneAsesor.some(tesis.Asesor) & tesis.tieneAutor.some(tesis.AutorAlumnoPregrado) & tesis.tieneEvaluador.some(tesis.EvaluadorJurado) & tesis.tieneSustentacion.some(tesis.SustPregrado) & tesis.tieneTermino.some(tesis.Termino) & tesis.tieneUniversidad.some(tesis.Universidad), tesis.TesisLicenciatura2, tesis.TesisSegundaEspecialidad2]\n"
          ]
        }
      ]
    },
    {
      "cell_type": "markdown",
      "metadata": {
        "id": "CkMdBFNvBlLw"
      },
      "source": [
        "### **Disjoints**"
      ]
    },
    {
      "cell_type": "code",
      "metadata": {
        "colab": {
          "base_uri": "https://localhost:8080/"
        },
        "id": "4GO5f6ieBje7",
        "outputId": "ef3859f2-6114-4b7f-d0ee-a27060ab2a7d"
      },
      "source": [
        "for d in onto.Asesor.disjoints():\n",
        "  print(d.entities)"
      ],
      "execution_count": 87,
      "outputs": [
        {
          "output_type": "stream",
          "name": "stdout",
          "text": [
            "[tesis.Asesor, tesis.Autor, tesis.Coordinador, tesis.CoordinadorEspecialidad, tesis.DirectorEscuela, tesis.EvaluadorJurado, tesis.Publicador, tesis.Revisor]\n"
          ]
        }
      ]
    },
    {
      "cell_type": "markdown",
      "metadata": {
        "id": "e5UPTiaYfG_g"
      },
      "source": [
        "### **Inferencias**"
      ]
    },
    {
      "cell_type": "code",
      "metadata": {
        "id": "nMbfcVPYpqND"
      },
      "source": [
        "def clase_de(entidad):\n",
        "  print(entidad.is_a)"
      ],
      "execution_count": 88,
      "outputs": []
    },
    {
      "cell_type": "code",
      "metadata": {
        "colab": {
          "base_uri": "https://localhost:8080/"
        },
        "id": "arOnBsGE2keJ",
        "outputId": "f959fb40-c622-484e-be76-111e02d15955"
      },
      "source": [
        "clase_de(onto.TesisTitulo2)"
      ],
      "execution_count": 93,
      "outputs": [
        {
          "output_type": "stream",
          "name": "stdout",
          "text": [
            "[tesis.ProyectoDeInvestigacion]\n"
          ]
        }
      ]
    },
    {
      "cell_type": "code",
      "metadata": {
        "id": "_G2jmq5SfGT2"
      },
      "source": [
        "# Razonador HermiT\n",
        "# Para mas de una ontologia: sync_reasoner([onto1, onto2,...])\n",
        "def obtener_inferencias_onto():\n",
        "  with onto:\n",
        "    sync_reasoner(infer_property_values = True)"
      ],
      "execution_count": 90,
      "outputs": []
    },
    {
      "cell_type": "code",
      "metadata": {
        "colab": {
          "base_uri": "https://localhost:8080/"
        },
        "id": "ugA_CZ6Z23Oi",
        "outputId": "34d1e4a3-631a-4124-f2f1-7de3017ebb5f"
      },
      "source": [
        "obtener_inferencias_onto()"
      ],
      "execution_count": 91,
      "outputs": [
        {
          "output_type": "stream",
          "name": "stderr",
          "text": [
            "* Owlready2 * Running HermiT...\n",
            "    java -Xmx2000M -cp /usr/local/lib/python3.7/dist-packages/owlready2/hermit:/usr/local/lib/python3.7/dist-packages/owlready2/hermit/HermiT.jar org.semanticweb.HermiT.cli.CommandLine -c -O -D -I file:////tmp/tmpmj52v3ir -Y\n",
            "* Owlready2 * HermiT took 1.4473974704742432 seconds\n",
            "* Owlready * Equivalenting: tesis.TesisLicenciatura2 tesis.TesisSegundaEspecialidad2\n",
            "* Owlready * Equivalenting: tesis.TesisLicenciatura2 tesis.TesisTitulo2\n",
            "* Owlready * Equivalenting: tesis.TesisSegundaEspecialidad2 tesis.TesisLicenciatura2\n",
            "* Owlready * Equivalenting: tesis.TesisSegundaEspecialidad2 tesis.TesisTitulo2\n",
            "* Owlready * Equivalenting: tesis.TesisTitulo2 tesis.TesisLicenciatura2\n",
            "* Owlready * Equivalenting: tesis.TesisTitulo2 tesis.TesisSegundaEspecialidad2\n",
            "* Owlready * Equivalenting: tesis.PruebaInconsistenciaTesis owl.Nothing\n",
            "* Owlready * (NB: only changes on entities loaded in Python are shown, other changes are done but not listed)\n"
          ]
        }
      ]
    },
    {
      "cell_type": "code",
      "metadata": {
        "id": "irVy6vMxoWy_"
      },
      "source": [
        "def padre_de(entidad):\n",
        "  print(onto.get_parents_of(entidad))"
      ],
      "execution_count": 95,
      "outputs": []
    },
    {
      "cell_type": "code",
      "metadata": {
        "colab": {
          "base_uri": "https://localhost:8080/"
        },
        "id": "IEuanwWh3HfF",
        "outputId": "94447cfc-0e0b-419d-c73b-a94c7f5983d6"
      },
      "source": [
        "padre_de(onto.TesisMaestria)"
      ],
      "execution_count": 96,
      "outputs": [
        {
          "output_type": "stream",
          "name": "stdout",
          "text": [
            "[tesis.TesisPosgrado]\n"
          ]
        }
      ]
    },
    {
      "cell_type": "code",
      "metadata": {
        "id": "Zjg2qXuvmRT_"
      },
      "source": [
        " # Razonador Pellet\n",
        " # Pellet also supports the inference of data property values\n",
        " def obtener_inferencias_onto_pellet():\n",
        "  sync_reasoner_pellet(infer_property_values = True, infer_data_property_values = True)"
      ],
      "execution_count": 98,
      "outputs": []
    },
    {
      "cell_type": "code",
      "metadata": {
        "colab": {
          "base_uri": "https://localhost:8080/"
        },
        "id": "zc1UCN073Ucp",
        "outputId": "60068f32-7140-4fe5-cb6f-635650c3515f"
      },
      "source": [
        "obtener_inferencias_onto_pellet()"
      ],
      "execution_count": 99,
      "outputs": [
        {
          "output_type": "stream",
          "name": "stderr",
          "text": [
            "* Owlready2 * Running Pellet...\n",
            "    java -Xmx2000M -cp /usr/local/lib/python3.7/dist-packages/owlready2/pellet/log4j-1.2.16.jar:/usr/local/lib/python3.7/dist-packages/owlready2/pellet/antlr-3.2.jar:/usr/local/lib/python3.7/dist-packages/owlready2/pellet/jena-iri-0.9.5.jar:/usr/local/lib/python3.7/dist-packages/owlready2/pellet/slf4j-api-1.6.4.jar:/usr/local/lib/python3.7/dist-packages/owlready2/pellet/pellet-2.3.1.jar:/usr/local/lib/python3.7/dist-packages/owlready2/pellet/jena-arq-2.10.0.jar:/usr/local/lib/python3.7/dist-packages/owlready2/pellet/httpclient-4.2.3.jar:/usr/local/lib/python3.7/dist-packages/owlready2/pellet/owlapi-distribution-3.4.3-bin.jar:/usr/local/lib/python3.7/dist-packages/owlready2/pellet/jgrapht-jdk1.5.jar:/usr/local/lib/python3.7/dist-packages/owlready2/pellet/jena-core-2.10.0.jar:/usr/local/lib/python3.7/dist-packages/owlready2/pellet/xercesImpl-2.10.0.jar:/usr/local/lib/python3.7/dist-packages/owlready2/pellet/httpcore-4.2.2.jar:/usr/local/lib/python3.7/dist-packages/owlready2/pellet/jena-tdb-0.10.0.jar:/usr/local/lib/python3.7/dist-packages/owlready2/pellet/jcl-over-slf4j-1.6.4.jar:/usr/local/lib/python3.7/dist-packages/owlready2/pellet/commons-codec-1.6.jar:/usr/local/lib/python3.7/dist-packages/owlready2/pellet/xml-apis-1.4.01.jar:/usr/local/lib/python3.7/dist-packages/owlready2/pellet/antlr-runtime-3.2.jar:/usr/local/lib/python3.7/dist-packages/owlready2/pellet/slf4j-log4j12-1.6.4.jar:/usr/local/lib/python3.7/dist-packages/owlready2/pellet/aterm-java-1.6.jar pellet.Pellet realize --loader Jena --input-format N-Triples --infer-prop-values --infer-data-prop-values --ignore-imports /tmp/tmptjupnw67\n",
            "* Owlready2 * Pellet took 2.0302670001983643 seconds\n",
            "* Owlready * Equivalenting: tesis.TesisLicenciatura2 tesis.TesisSegundaEspecialidad2\n",
            "* Owlready * Equivalenting: tesis.TesisLicenciatura2 tesis.TesisTitulo2\n",
            "* Owlready * Equivalenting: tesis.TesisSegundaEspecialidad2 tesis.TesisLicenciatura2\n",
            "* Owlready * Equivalenting: tesis.TesisSegundaEspecialidad2 tesis.TesisTitulo2\n",
            "* Owlready * Equivalenting: tesis.TesisTitulo2 tesis.TesisLicenciatura2\n",
            "* Owlready * Equivalenting: tesis.TesisTitulo2 tesis.TesisSegundaEspecialidad2\n",
            "* Owlready * Equivalenting: tesis.PruebaInconsistenciaTesis owl.Nothing\n",
            "* Owlready * Equivalenting: owl.Nothing tesis.PruebaInconsistenciaTesis\n",
            "* Owlready * Reparenting tesis.TrabInvTitulo2: {tesis.TesisLicenciatura2} => {tesis.TesisLicenciatura2, tesis.TesisTitulo2, tesis.TesisSegundaEspecialidad2}\n",
            "* Owlready * (NB: only changes on entities loaded in Python are shown, other changes are done but not listed)\n"
          ]
        }
      ]
    },
    {
      "cell_type": "markdown",
      "metadata": {
        "id": "6vTs5hGTrBSR"
      },
      "source": [
        "### **Anotaciones**"
      ]
    },
    {
      "cell_type": "code",
      "metadata": {
        "id": "kMicLUqxqs5O"
      },
      "source": [
        "onto.Tesis.comment = [ locstr(\"Subclase de ProyectoDeInvestigacion\", lang = \"es\"), locstr(\"SubClass of ProyectoDeInvestigacion\", lang = \"en\") ]"
      ],
      "execution_count": 53,
      "outputs": []
    },
    {
      "cell_type": "code",
      "metadata": {
        "colab": {
          "base_uri": "https://localhost:8080/"
        },
        "id": "vmhNbJ8urAyM",
        "outputId": "9c7d5a15-284f-41af-d393-84a3600208ce"
      },
      "source": [
        "onto.Tesis.comment.es"
      ],
      "execution_count": 100,
      "outputs": [
        {
          "output_type": "execute_result",
          "data": {
            "text/plain": [
              "['Subclase de ProyectoDeInvestigacion']"
            ]
          },
          "metadata": {},
          "execution_count": 100
        }
      ]
    },
    {
      "cell_type": "code",
      "metadata": {
        "colab": {
          "base_uri": "https://localhost:8080/"
        },
        "id": "nd3jAM71rSur",
        "outputId": "e5862488-4845-442b-c5e1-f437b0e0e77d"
      },
      "source": [
        "onto.Tesis.comment.en"
      ],
      "execution_count": 56,
      "outputs": [
        {
          "output_type": "execute_result",
          "data": {
            "text/plain": [
              "['SubClass of ProyectoDeInvestigacion']"
            ]
          },
          "metadata": {},
          "execution_count": 56
        }
      ]
    },
    {
      "cell_type": "markdown",
      "metadata": {
        "id": "xXC1LFROoAG3"
      },
      "source": [
        "### **Test de Clase Inconsistente**"
      ]
    },
    {
      "cell_type": "code",
      "metadata": {
        "colab": {
          "base_uri": "https://localhost:8080/"
        },
        "id": "33oaZdl4njhN",
        "outputId": "4ef49f1f-72fa-46fc-d11e-a6ad17720165"
      },
      "source": [
        "list(default_world.inconsistent_classes())"
      ],
      "execution_count": 36,
      "outputs": [
        {
          "output_type": "execute_result",
          "data": {
            "text/plain": [
              "[tesis.PruebaInconsistenciaTesis, owl.Nothing]"
            ]
          },
          "metadata": {},
          "execution_count": 36
        }
      ]
    },
    {
      "cell_type": "markdown",
      "metadata": {
        "id": "-htGC3errxmx"
      },
      "source": [
        "### **SPARQL Query**"
      ]
    },
    {
      "cell_type": "code",
      "metadata": {
        "colab": {
          "base_uri": "https://localhost:8080/"
        },
        "id": "eke9kuDZrvZZ",
        "outputId": "9efa0f55-188a-480d-dae5-c5ade1be559d"
      },
      "source": [
        "# Número de clases\n",
        "list(default_world.sparql(\"\"\"\n",
        "SELECT (COUNT(?x) AS ?nb)\n",
        "{ ?x a owl:Class . }\n",
        "\"\"\"))"
      ],
      "execution_count": 57,
      "outputs": [
        {
          "output_type": "execute_result",
          "data": {
            "text/plain": [
              "[[280]]"
            ]
          },
          "metadata": {},
          "execution_count": 57
        }
      ]
    },
    {
      "cell_type": "markdown",
      "metadata": {
        "id": "8YQoIB0r8tJP"
      },
      "source": [
        "### **Exportación en RDF**"
      ]
    },
    {
      "cell_type": "code",
      "metadata": {
        "id": "ZO9pbFja0yp8"
      },
      "source": [
        "#Generamos el archivo en el formato deseado\n",
        "onto.save(file = \"tesis.rdf\", format = \"rdfxml\")"
      ],
      "execution_count": 19,
      "outputs": []
    }
  ]
}